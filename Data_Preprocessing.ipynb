{
 "cells": [
  {
   "cell_type": "markdown",
   "id": "1ba5deef",
   "metadata": {},
   "source": [
    "### Data set is called \"E:\\AMIT - Assignments and Materials\\AI ONL 104\\Data Preprocessing & Visulization\\Pandas Practice assignment\\Data\\bi.csv\""
   ]
  },
  {
   "cell_type": "code",
   "execution_count": 18,
   "id": "1d9f7743",
   "metadata": {},
   "outputs": [],
   "source": [
    "import pandas as pd"
   ]
  },
  {
   "cell_type": "code",
   "execution_count": 34,
   "id": "5d1e3966",
   "metadata": {},
   "outputs": [
    {
     "data": {
      "text/html": [
       "<div>\n",
       "<style scoped>\n",
       "    .dataframe tbody tr th:only-of-type {\n",
       "        vertical-align: middle;\n",
       "    }\n",
       "\n",
       "    .dataframe tbody tr th {\n",
       "        vertical-align: top;\n",
       "    }\n",
       "\n",
       "    .dataframe thead th {\n",
       "        text-align: right;\n",
       "    }\n",
       "</style>\n",
       "<table border=\"1\" class=\"dataframe\">\n",
       "  <thead>\n",
       "    <tr style=\"text-align: right;\">\n",
       "      <th></th>\n",
       "      <th>fNAME</th>\n",
       "      <th>lNAME</th>\n",
       "      <th>Age</th>\n",
       "      <th>gender</th>\n",
       "      <th>country</th>\n",
       "      <th>residence</th>\n",
       "      <th>entryEXAM</th>\n",
       "      <th>prevEducation</th>\n",
       "      <th>studyHOURS</th>\n",
       "      <th>Python</th>\n",
       "      <th>DB</th>\n",
       "    </tr>\n",
       "  </thead>\n",
       "  <tbody>\n",
       "    <tr>\n",
       "      <th>0</th>\n",
       "      <td>Christina</td>\n",
       "      <td>Binger</td>\n",
       "      <td>44</td>\n",
       "      <td>Female</td>\n",
       "      <td>Norway</td>\n",
       "      <td>Private</td>\n",
       "      <td>72</td>\n",
       "      <td>Masters</td>\n",
       "      <td>158</td>\n",
       "      <td>59.0</td>\n",
       "      <td>55</td>\n",
       "    </tr>\n",
       "    <tr>\n",
       "      <th>1</th>\n",
       "      <td>Alex</td>\n",
       "      <td>Walekhwa</td>\n",
       "      <td>60</td>\n",
       "      <td>M</td>\n",
       "      <td>Kenya</td>\n",
       "      <td>Private</td>\n",
       "      <td>79</td>\n",
       "      <td>Diploma</td>\n",
       "      <td>150</td>\n",
       "      <td>60.0</td>\n",
       "      <td>75</td>\n",
       "    </tr>\n",
       "    <tr>\n",
       "      <th>2</th>\n",
       "      <td>Philip</td>\n",
       "      <td>Leo</td>\n",
       "      <td>25</td>\n",
       "      <td>Male</td>\n",
       "      <td>Uganda</td>\n",
       "      <td>Sognsvann</td>\n",
       "      <td>55</td>\n",
       "      <td>HighSchool</td>\n",
       "      <td>130</td>\n",
       "      <td>74.0</td>\n",
       "      <td>50</td>\n",
       "    </tr>\n",
       "    <tr>\n",
       "      <th>3</th>\n",
       "      <td>Shoni</td>\n",
       "      <td>Hlongwane</td>\n",
       "      <td>22</td>\n",
       "      <td>F</td>\n",
       "      <td>Rsa</td>\n",
       "      <td>Sognsvann</td>\n",
       "      <td>40</td>\n",
       "      <td>High School</td>\n",
       "      <td>120</td>\n",
       "      <td>NaN</td>\n",
       "      <td>44</td>\n",
       "    </tr>\n",
       "    <tr>\n",
       "      <th>4</th>\n",
       "      <td>Maria</td>\n",
       "      <td>Kedibone</td>\n",
       "      <td>23</td>\n",
       "      <td>Female</td>\n",
       "      <td>South Africa</td>\n",
       "      <td>Sognsvann</td>\n",
       "      <td>65</td>\n",
       "      <td>High School</td>\n",
       "      <td>122</td>\n",
       "      <td>91.0</td>\n",
       "      <td>80</td>\n",
       "    </tr>\n",
       "    <tr>\n",
       "      <th>...</th>\n",
       "      <td>...</td>\n",
       "      <td>...</td>\n",
       "      <td>...</td>\n",
       "      <td>...</td>\n",
       "      <td>...</td>\n",
       "      <td>...</td>\n",
       "      <td>...</td>\n",
       "      <td>...</td>\n",
       "      <td>...</td>\n",
       "      <td>...</td>\n",
       "      <td>...</td>\n",
       "    </tr>\n",
       "    <tr>\n",
       "      <th>72</th>\n",
       "      <td>Clara</td>\n",
       "      <td>Bernard</td>\n",
       "      <td>43</td>\n",
       "      <td>Female</td>\n",
       "      <td>France</td>\n",
       "      <td>Private</td>\n",
       "      <td>80</td>\n",
       "      <td>Bachelors</td>\n",
       "      <td>150</td>\n",
       "      <td>75.0</td>\n",
       "      <td>43</td>\n",
       "    </tr>\n",
       "    <tr>\n",
       "      <th>73</th>\n",
       "      <td>Julian</td>\n",
       "      <td>Nielsen</td>\n",
       "      <td>31</td>\n",
       "      <td>Male</td>\n",
       "      <td>Denmark</td>\n",
       "      <td>Sognsvann</td>\n",
       "      <td>90</td>\n",
       "      <td>Masters</td>\n",
       "      <td>158</td>\n",
       "      <td>84.0</td>\n",
       "      <td>83</td>\n",
       "    </tr>\n",
       "    <tr>\n",
       "      <th>74</th>\n",
       "      <td>Sophie</td>\n",
       "      <td>Brown</td>\n",
       "      <td>33</td>\n",
       "      <td>Female</td>\n",
       "      <td>UK</td>\n",
       "      <td>Sognsvann</td>\n",
       "      <td>96</td>\n",
       "      <td>Masters</td>\n",
       "      <td>158</td>\n",
       "      <td>85.0</td>\n",
       "      <td>90</td>\n",
       "    </tr>\n",
       "    <tr>\n",
       "      <th>75</th>\n",
       "      <td>Leon</td>\n",
       "      <td>Bauer</td>\n",
       "      <td>35</td>\n",
       "      <td>Male</td>\n",
       "      <td>Germany</td>\n",
       "      <td>Sognsvann</td>\n",
       "      <td>90</td>\n",
       "      <td>Masters</td>\n",
       "      <td>160</td>\n",
       "      <td>87.0</td>\n",
       "      <td>74</td>\n",
       "    </tr>\n",
       "    <tr>\n",
       "      <th>76</th>\n",
       "      <td>Mohammed</td>\n",
       "      <td>Salim</td>\n",
       "      <td>31</td>\n",
       "      <td>Male</td>\n",
       "      <td>Somali</td>\n",
       "      <td>Sognsvann</td>\n",
       "      <td>35</td>\n",
       "      <td>Masters</td>\n",
       "      <td>144</td>\n",
       "      <td>72.0</td>\n",
       "      <td>90</td>\n",
       "    </tr>\n",
       "  </tbody>\n",
       "</table>\n",
       "<p>77 rows × 11 columns</p>\n",
       "</div>"
      ],
      "text/plain": [
       "        fNAME      lNAME  Age  gender       country  residence  entryEXAM  \\\n",
       "0   Christina     Binger   44  Female        Norway    Private         72   \n",
       "1        Alex   Walekhwa   60       M         Kenya    Private         79   \n",
       "2      Philip        Leo   25    Male        Uganda  Sognsvann         55   \n",
       "3       Shoni  Hlongwane   22       F           Rsa  Sognsvann         40   \n",
       "4       Maria   Kedibone   23  Female  South Africa  Sognsvann         65   \n",
       "..        ...        ...  ...     ...           ...        ...        ...   \n",
       "72      Clara    Bernard   43  Female        France    Private         80   \n",
       "73     Julian    Nielsen   31    Male       Denmark  Sognsvann         90   \n",
       "74     Sophie      Brown   33  Female            UK  Sognsvann         96   \n",
       "75       Leon      Bauer   35    Male       Germany  Sognsvann         90   \n",
       "76   Mohammed      Salim   31    Male        Somali  Sognsvann         35   \n",
       "\n",
       "   prevEducation  studyHOURS  Python  DB  \n",
       "0        Masters         158    59.0  55  \n",
       "1        Diploma         150    60.0  75  \n",
       "2     HighSchool         130    74.0  50  \n",
       "3    High School         120     NaN  44  \n",
       "4    High School         122    91.0  80  \n",
       "..           ...         ...     ...  ..  \n",
       "72     Bachelors         150    75.0  43  \n",
       "73       Masters         158    84.0  83  \n",
       "74       Masters         158    85.0  90  \n",
       "75       Masters         160    87.0  74  \n",
       "76       Masters         144    72.0  90  \n",
       "\n",
       "[77 rows x 11 columns]"
      ]
     },
     "execution_count": 34,
     "metadata": {},
     "output_type": "execute_result"
    }
   ],
   "source": [
    "df = pd.read_csv(r\"E:\\AMIT - Assignments and Materials\\AI ONL 104\\Data Preprocessing & Visulization\\Pandas Practice assignment\\Data\\bi.csv\", encoding=\"ISO-8859-1\")\n",
    "df"
   ]
  },
  {
   "cell_type": "markdown",
   "id": "fa6d1f49",
   "metadata": {},
   "source": [
    "# part One"
   ]
  },
  {
   "cell_type": "code",
   "execution_count": 35,
   "id": "c82e69e9",
   "metadata": {},
   "outputs": [
    {
     "data": {
      "text/plain": [
       "(77, 11)"
      ]
     },
     "execution_count": 35,
     "metadata": {},
     "output_type": "execute_result"
    }
   ],
   "source": [
    "# first 5 min\n",
    "\n",
    "df.shape"
   ]
  },
  {
   "cell_type": "code",
   "execution_count": 36,
   "id": "807c3e53",
   "metadata": {},
   "outputs": [
    {
     "data": {
      "text/plain": [
       "Index(['fNAME', 'lNAME', 'Age', 'gender', 'country', 'residence', 'entryEXAM',\n",
       "       'prevEducation', 'studyHOURS', 'Python', 'DB'],\n",
       "      dtype='object')"
      ]
     },
     "execution_count": 36,
     "metadata": {},
     "output_type": "execute_result"
    }
   ],
   "source": [
    "df.columns"
   ]
  },
  {
   "cell_type": "code",
   "execution_count": 37,
   "id": "0ef772b0",
   "metadata": {},
   "outputs": [
    {
     "name": "stdout",
     "output_type": "stream",
     "text": [
      "<class 'pandas.core.frame.DataFrame'>\n",
      "RangeIndex: 77 entries, 0 to 76\n",
      "Data columns (total 11 columns):\n",
      " #   Column         Non-Null Count  Dtype  \n",
      "---  ------         --------------  -----  \n",
      " 0   fNAME          77 non-null     object \n",
      " 1   lNAME          77 non-null     object \n",
      " 2   Age            77 non-null     int64  \n",
      " 3   gender         77 non-null     object \n",
      " 4   country        77 non-null     object \n",
      " 5   residence      77 non-null     object \n",
      " 6   entryEXAM      77 non-null     int64  \n",
      " 7   prevEducation  77 non-null     object \n",
      " 8   studyHOURS     77 non-null     int64  \n",
      " 9   Python         75 non-null     float64\n",
      " 10  DB             77 non-null     int64  \n",
      "dtypes: float64(1), int64(4), object(6)\n",
      "memory usage: 6.7+ KB\n"
     ]
    }
   ],
   "source": [
    "df.info()"
   ]
  },
  {
   "cell_type": "code",
   "execution_count": 38,
   "id": "d2a25b87",
   "metadata": {},
   "outputs": [
    {
     "data": {
      "text/html": [
       "<div>\n",
       "<style scoped>\n",
       "    .dataframe tbody tr th:only-of-type {\n",
       "        vertical-align: middle;\n",
       "    }\n",
       "\n",
       "    .dataframe tbody tr th {\n",
       "        vertical-align: top;\n",
       "    }\n",
       "\n",
       "    .dataframe thead th {\n",
       "        text-align: right;\n",
       "    }\n",
       "</style>\n",
       "<table border=\"1\" class=\"dataframe\">\n",
       "  <thead>\n",
       "    <tr style=\"text-align: right;\">\n",
       "      <th></th>\n",
       "      <th>Age</th>\n",
       "      <th>entryEXAM</th>\n",
       "      <th>studyHOURS</th>\n",
       "      <th>Python</th>\n",
       "      <th>DB</th>\n",
       "    </tr>\n",
       "  </thead>\n",
       "  <tbody>\n",
       "    <tr>\n",
       "      <th>count</th>\n",
       "      <td>77.000000</td>\n",
       "      <td>77.000000</td>\n",
       "      <td>77.000000</td>\n",
       "      <td>75.000000</td>\n",
       "      <td>77.000000</td>\n",
       "    </tr>\n",
       "    <tr>\n",
       "      <th>mean</th>\n",
       "      <td>35.207792</td>\n",
       "      <td>76.753247</td>\n",
       "      <td>149.714286</td>\n",
       "      <td>75.853333</td>\n",
       "      <td>69.467532</td>\n",
       "    </tr>\n",
       "    <tr>\n",
       "      <th>std</th>\n",
       "      <td>10.341966</td>\n",
       "      <td>16.475784</td>\n",
       "      <td>12.743272</td>\n",
       "      <td>15.410328</td>\n",
       "      <td>17.033701</td>\n",
       "    </tr>\n",
       "    <tr>\n",
       "      <th>min</th>\n",
       "      <td>21.000000</td>\n",
       "      <td>28.000000</td>\n",
       "      <td>114.000000</td>\n",
       "      <td>15.000000</td>\n",
       "      <td>30.000000</td>\n",
       "    </tr>\n",
       "    <tr>\n",
       "      <th>25%</th>\n",
       "      <td>27.000000</td>\n",
       "      <td>69.000000</td>\n",
       "      <td>144.000000</td>\n",
       "      <td>71.000000</td>\n",
       "      <td>56.000000</td>\n",
       "    </tr>\n",
       "    <tr>\n",
       "      <th>50%</th>\n",
       "      <td>33.000000</td>\n",
       "      <td>80.000000</td>\n",
       "      <td>156.000000</td>\n",
       "      <td>81.000000</td>\n",
       "      <td>71.000000</td>\n",
       "    </tr>\n",
       "    <tr>\n",
       "      <th>75%</th>\n",
       "      <td>42.000000</td>\n",
       "      <td>90.000000</td>\n",
       "      <td>158.000000</td>\n",
       "      <td>85.000000</td>\n",
       "      <td>83.000000</td>\n",
       "    </tr>\n",
       "    <tr>\n",
       "      <th>max</th>\n",
       "      <td>71.000000</td>\n",
       "      <td>98.000000</td>\n",
       "      <td>160.000000</td>\n",
       "      <td>91.000000</td>\n",
       "      <td>100.000000</td>\n",
       "    </tr>\n",
       "  </tbody>\n",
       "</table>\n",
       "</div>"
      ],
      "text/plain": [
       "             Age  entryEXAM  studyHOURS     Python          DB\n",
       "count  77.000000  77.000000   77.000000  75.000000   77.000000\n",
       "mean   35.207792  76.753247  149.714286  75.853333   69.467532\n",
       "std    10.341966  16.475784   12.743272  15.410328   17.033701\n",
       "min    21.000000  28.000000  114.000000  15.000000   30.000000\n",
       "25%    27.000000  69.000000  144.000000  71.000000   56.000000\n",
       "50%    33.000000  80.000000  156.000000  81.000000   71.000000\n",
       "75%    42.000000  90.000000  158.000000  85.000000   83.000000\n",
       "max    71.000000  98.000000  160.000000  91.000000  100.000000"
      ]
     },
     "execution_count": 38,
     "metadata": {},
     "output_type": "execute_result"
    }
   ],
   "source": [
    "df.describe()"
   ]
  },
  {
   "cell_type": "code",
   "execution_count": 39,
   "id": "e2fd8511",
   "metadata": {},
   "outputs": [
    {
     "data": {
      "text/html": [
       "<div>\n",
       "<style scoped>\n",
       "    .dataframe tbody tr th:only-of-type {\n",
       "        vertical-align: middle;\n",
       "    }\n",
       "\n",
       "    .dataframe tbody tr th {\n",
       "        vertical-align: top;\n",
       "    }\n",
       "\n",
       "    .dataframe thead th {\n",
       "        text-align: right;\n",
       "    }\n",
       "</style>\n",
       "<table border=\"1\" class=\"dataframe\">\n",
       "  <thead>\n",
       "    <tr style=\"text-align: right;\">\n",
       "      <th></th>\n",
       "      <th>fNAME</th>\n",
       "      <th>lNAME</th>\n",
       "      <th>Age</th>\n",
       "      <th>gender</th>\n",
       "      <th>country</th>\n",
       "      <th>residence</th>\n",
       "      <th>entryEXAM</th>\n",
       "      <th>prevEducation</th>\n",
       "      <th>studyHOURS</th>\n",
       "      <th>Python</th>\n",
       "      <th>DB</th>\n",
       "    </tr>\n",
       "  </thead>\n",
       "  <tbody>\n",
       "    <tr>\n",
       "      <th>0</th>\n",
       "      <td>Christina</td>\n",
       "      <td>Binger</td>\n",
       "      <td>44</td>\n",
       "      <td>Female</td>\n",
       "      <td>Norway</td>\n",
       "      <td>Private</td>\n",
       "      <td>72</td>\n",
       "      <td>Masters</td>\n",
       "      <td>158</td>\n",
       "      <td>59.0</td>\n",
       "      <td>55</td>\n",
       "    </tr>\n",
       "    <tr>\n",
       "      <th>1</th>\n",
       "      <td>Alex</td>\n",
       "      <td>Walekhwa</td>\n",
       "      <td>60</td>\n",
       "      <td>M</td>\n",
       "      <td>Kenya</td>\n",
       "      <td>Private</td>\n",
       "      <td>79</td>\n",
       "      <td>Diploma</td>\n",
       "      <td>150</td>\n",
       "      <td>60.0</td>\n",
       "      <td>75</td>\n",
       "    </tr>\n",
       "    <tr>\n",
       "      <th>2</th>\n",
       "      <td>Philip</td>\n",
       "      <td>Leo</td>\n",
       "      <td>25</td>\n",
       "      <td>Male</td>\n",
       "      <td>Uganda</td>\n",
       "      <td>Sognsvann</td>\n",
       "      <td>55</td>\n",
       "      <td>HighSchool</td>\n",
       "      <td>130</td>\n",
       "      <td>74.0</td>\n",
       "      <td>50</td>\n",
       "    </tr>\n",
       "    <tr>\n",
       "      <th>3</th>\n",
       "      <td>Shoni</td>\n",
       "      <td>Hlongwane</td>\n",
       "      <td>22</td>\n",
       "      <td>F</td>\n",
       "      <td>Rsa</td>\n",
       "      <td>Sognsvann</td>\n",
       "      <td>40</td>\n",
       "      <td>High School</td>\n",
       "      <td>120</td>\n",
       "      <td>NaN</td>\n",
       "      <td>44</td>\n",
       "    </tr>\n",
       "    <tr>\n",
       "      <th>4</th>\n",
       "      <td>Maria</td>\n",
       "      <td>Kedibone</td>\n",
       "      <td>23</td>\n",
       "      <td>Female</td>\n",
       "      <td>South Africa</td>\n",
       "      <td>Sognsvann</td>\n",
       "      <td>65</td>\n",
       "      <td>High School</td>\n",
       "      <td>122</td>\n",
       "      <td>91.0</td>\n",
       "      <td>80</td>\n",
       "    </tr>\n",
       "  </tbody>\n",
       "</table>\n",
       "</div>"
      ],
      "text/plain": [
       "       fNAME      lNAME  Age  gender       country  residence  entryEXAM  \\\n",
       "0  Christina     Binger   44  Female        Norway    Private         72   \n",
       "1       Alex   Walekhwa   60       M         Kenya    Private         79   \n",
       "2     Philip        Leo   25    Male        Uganda  Sognsvann         55   \n",
       "3      Shoni  Hlongwane   22       F           Rsa  Sognsvann         40   \n",
       "4      Maria   Kedibone   23  Female  South Africa  Sognsvann         65   \n",
       "\n",
       "  prevEducation  studyHOURS  Python  DB  \n",
       "0       Masters         158    59.0  55  \n",
       "1       Diploma         150    60.0  75  \n",
       "2    HighSchool         130    74.0  50  \n",
       "3   High School         120     NaN  44  \n",
       "4   High School         122    91.0  80  "
      ]
     },
     "execution_count": 39,
     "metadata": {},
     "output_type": "execute_result"
    }
   ],
   "source": [
    "df.head()"
   ]
  },
  {
   "cell_type": "markdown",
   "id": "f6dc3867",
   "metadata": {},
   "source": [
    "## Data Cleaning"
   ]
  },
  {
   "cell_type": "code",
   "execution_count": 40,
   "id": "2c3d3851",
   "metadata": {},
   "outputs": [
    {
     "data": {
      "text/plain": [
       "fNAME            0\n",
       "lNAME            0\n",
       "Age              0\n",
       "gender           0\n",
       "country          0\n",
       "residence        0\n",
       "entryEXAM        0\n",
       "prevEducation    0\n",
       "studyHOURS       0\n",
       "Python           2\n",
       "DB               0\n",
       "dtype: int64"
      ]
     },
     "execution_count": 40,
     "metadata": {},
     "output_type": "execute_result"
    }
   ],
   "source": [
    "#detect nulls \n",
    "df.isnull().sum()"
   ]
  },
  {
   "cell_type": "code",
   "execution_count": 41,
   "id": "d66ca0d1",
   "metadata": {},
   "outputs": [
    {
     "data": {
      "text/plain": [
       "np.int64(2)"
      ]
     },
     "execution_count": 41,
     "metadata": {},
     "output_type": "execute_result"
    }
   ],
   "source": [
    "df['Python'].isnull().sum()"
   ]
  },
  {
   "cell_type": "code",
   "execution_count": 42,
   "id": "d05dc090",
   "metadata": {},
   "outputs": [
    {
     "data": {
      "text/plain": [
       "fNAME            0\n",
       "lNAME            0\n",
       "Age              0\n",
       "gender           0\n",
       "country          0\n",
       "residence        0\n",
       "entryEXAM        0\n",
       "prevEducation    0\n",
       "studyHOURS       0\n",
       "Python           0\n",
       "DB               0\n",
       "dtype: int64"
      ]
     },
     "execution_count": 42,
     "metadata": {},
     "output_type": "execute_result"
    }
   ],
   "source": [
    "# drop nulls in Python column\n",
    "df = df.dropna(subset=['Python'])\n",
    "df.isnull().sum()"
   ]
  },
  {
   "cell_type": "code",
   "execution_count": 43,
   "id": "ec4adcf9",
   "metadata": {},
   "outputs": [
    {
     "name": "stdout",
     "output_type": "stream",
     "text": [
      "<class 'pandas.core.frame.DataFrame'>\n",
      "Index: 75 entries, 0 to 76\n",
      "Data columns (total 11 columns):\n",
      " #   Column         Non-Null Count  Dtype  \n",
      "---  ------         --------------  -----  \n",
      " 0   fNAME          75 non-null     object \n",
      " 1   lNAME          75 non-null     object \n",
      " 2   Age            75 non-null     int64  \n",
      " 3   gender         75 non-null     object \n",
      " 4   country        75 non-null     object \n",
      " 5   residence      75 non-null     object \n",
      " 6   entryEXAM      75 non-null     int64  \n",
      " 7   prevEducation  75 non-null     object \n",
      " 8   studyHOURS     75 non-null     int64  \n",
      " 9   Python         75 non-null     float64\n",
      " 10  DB             75 non-null     int64  \n",
      "dtypes: float64(1), int64(4), object(6)\n",
      "memory usage: 7.0+ KB\n"
     ]
    }
   ],
   "source": [
    "df.info()"
   ]
  },
  {
   "cell_type": "code",
   "execution_count": 44,
   "id": "4bba473e",
   "metadata": {},
   "outputs": [
    {
     "data": {
      "text/plain": [
       "np.int64(0)"
      ]
     },
     "execution_count": 44,
     "metadata": {},
     "output_type": "execute_result"
    }
   ],
   "source": [
    "# detect duplicates\n",
    "df.duplicated().sum()"
   ]
  },
  {
   "cell_type": "code",
   "execution_count": 45,
   "id": "70bf114a",
   "metadata": {},
   "outputs": [
    {
     "data": {
      "text/plain": [
       "array(['Female', 'M', 'Male', 'female', 'male'], dtype=object)"
      ]
     },
     "execution_count": 45,
     "metadata": {},
     "output_type": "execute_result"
    }
   ],
   "source": [
    "df['gender'].unique()"
   ]
  },
  {
   "cell_type": "code",
   "execution_count": 46,
   "id": "3762936c",
   "metadata": {},
   "outputs": [
    {
     "name": "stderr",
     "output_type": "stream",
     "text": [
      "C:\\Users\\DELL\\AppData\\Local\\Temp\\ipykernel_20092\\1300426250.py:2: SettingWithCopyWarning: \n",
      "A value is trying to be set on a copy of a slice from a DataFrame.\n",
      "Try using .loc[row_indexer,col_indexer] = value instead\n",
      "\n",
      "See the caveats in the documentation: https://pandas.pydata.org/pandas-docs/stable/user_guide/indexing.html#returning-a-view-versus-a-copy\n",
      "  df['gender'] = df['gender'].replace(['M', 'male'], 'Male').replace(['F', 'female'], 'Female')\n"
     ]
    }
   ],
   "source": [
    "# change array(['Female', 'M', 'Male', 'female', 'male'] to Male and Female\n",
    "df['gender'] = df['gender'].replace(['M', 'male'], 'Male').replace(['F', 'female'], 'Female')\n"
   ]
  },
  {
   "cell_type": "code",
   "execution_count": 47,
   "id": "41ec75a4",
   "metadata": {},
   "outputs": [
    {
     "data": {
      "text/plain": [
       "array(['Female', 'Male'], dtype=object)"
      ]
     },
     "execution_count": 47,
     "metadata": {},
     "output_type": "execute_result"
    }
   ],
   "source": [
    "df['gender'].unique()"
   ]
  },
  {
   "cell_type": "code",
   "execution_count": 48,
   "id": "6f3d6446",
   "metadata": {},
   "outputs": [
    {
     "data": {
      "text/html": [
       "<div>\n",
       "<style scoped>\n",
       "    .dataframe tbody tr th:only-of-type {\n",
       "        vertical-align: middle;\n",
       "    }\n",
       "\n",
       "    .dataframe tbody tr th {\n",
       "        vertical-align: top;\n",
       "    }\n",
       "\n",
       "    .dataframe thead th {\n",
       "        text-align: right;\n",
       "    }\n",
       "</style>\n",
       "<table border=\"1\" class=\"dataframe\">\n",
       "  <thead>\n",
       "    <tr style=\"text-align: right;\">\n",
       "      <th></th>\n",
       "      <th>fNAME</th>\n",
       "      <th>lNAME</th>\n",
       "      <th>Age</th>\n",
       "      <th>gender</th>\n",
       "      <th>country</th>\n",
       "      <th>residence</th>\n",
       "      <th>entryEXAM</th>\n",
       "      <th>prevEducation</th>\n",
       "      <th>studyHOURS</th>\n",
       "      <th>Python</th>\n",
       "      <th>DB</th>\n",
       "    </tr>\n",
       "  </thead>\n",
       "  <tbody>\n",
       "    <tr>\n",
       "      <th>0</th>\n",
       "      <td>Christina</td>\n",
       "      <td>Binger</td>\n",
       "      <td>44</td>\n",
       "      <td>Female</td>\n",
       "      <td>Norway</td>\n",
       "      <td>Private</td>\n",
       "      <td>72</td>\n",
       "      <td>Masters</td>\n",
       "      <td>158</td>\n",
       "      <td>59.0</td>\n",
       "      <td>55</td>\n",
       "    </tr>\n",
       "    <tr>\n",
       "      <th>1</th>\n",
       "      <td>Alex</td>\n",
       "      <td>Walekhwa</td>\n",
       "      <td>60</td>\n",
       "      <td>Male</td>\n",
       "      <td>Kenya</td>\n",
       "      <td>Private</td>\n",
       "      <td>79</td>\n",
       "      <td>Diploma</td>\n",
       "      <td>150</td>\n",
       "      <td>60.0</td>\n",
       "      <td>75</td>\n",
       "    </tr>\n",
       "    <tr>\n",
       "      <th>2</th>\n",
       "      <td>Philip</td>\n",
       "      <td>Leo</td>\n",
       "      <td>25</td>\n",
       "      <td>Male</td>\n",
       "      <td>Uganda</td>\n",
       "      <td>Sognsvann</td>\n",
       "      <td>55</td>\n",
       "      <td>HighSchool</td>\n",
       "      <td>130</td>\n",
       "      <td>74.0</td>\n",
       "      <td>50</td>\n",
       "    </tr>\n",
       "    <tr>\n",
       "      <th>4</th>\n",
       "      <td>Maria</td>\n",
       "      <td>Kedibone</td>\n",
       "      <td>23</td>\n",
       "      <td>Female</td>\n",
       "      <td>South Africa</td>\n",
       "      <td>Sognsvann</td>\n",
       "      <td>65</td>\n",
       "      <td>High School</td>\n",
       "      <td>122</td>\n",
       "      <td>91.0</td>\n",
       "      <td>80</td>\n",
       "    </tr>\n",
       "    <tr>\n",
       "      <th>5</th>\n",
       "      <td>Hannah</td>\n",
       "      <td>Hansen</td>\n",
       "      <td>25</td>\n",
       "      <td>Female</td>\n",
       "      <td>Norge</td>\n",
       "      <td>BI Residence</td>\n",
       "      <td>66</td>\n",
       "      <td>High School</td>\n",
       "      <td>130</td>\n",
       "      <td>88.0</td>\n",
       "      <td>59</td>\n",
       "    </tr>\n",
       "    <tr>\n",
       "      <th>...</th>\n",
       "      <td>...</td>\n",
       "      <td>...</td>\n",
       "      <td>...</td>\n",
       "      <td>...</td>\n",
       "      <td>...</td>\n",
       "      <td>...</td>\n",
       "      <td>...</td>\n",
       "      <td>...</td>\n",
       "      <td>...</td>\n",
       "      <td>...</td>\n",
       "      <td>...</td>\n",
       "    </tr>\n",
       "    <tr>\n",
       "      <th>72</th>\n",
       "      <td>Clara</td>\n",
       "      <td>Bernard</td>\n",
       "      <td>43</td>\n",
       "      <td>Female</td>\n",
       "      <td>France</td>\n",
       "      <td>Private</td>\n",
       "      <td>80</td>\n",
       "      <td>Bachelors</td>\n",
       "      <td>150</td>\n",
       "      <td>75.0</td>\n",
       "      <td>43</td>\n",
       "    </tr>\n",
       "    <tr>\n",
       "      <th>73</th>\n",
       "      <td>Julian</td>\n",
       "      <td>Nielsen</td>\n",
       "      <td>31</td>\n",
       "      <td>Male</td>\n",
       "      <td>Denmark</td>\n",
       "      <td>Sognsvann</td>\n",
       "      <td>90</td>\n",
       "      <td>Masters</td>\n",
       "      <td>158</td>\n",
       "      <td>84.0</td>\n",
       "      <td>83</td>\n",
       "    </tr>\n",
       "    <tr>\n",
       "      <th>74</th>\n",
       "      <td>Sophie</td>\n",
       "      <td>Brown</td>\n",
       "      <td>33</td>\n",
       "      <td>Female</td>\n",
       "      <td>UK</td>\n",
       "      <td>Sognsvann</td>\n",
       "      <td>96</td>\n",
       "      <td>Masters</td>\n",
       "      <td>158</td>\n",
       "      <td>85.0</td>\n",
       "      <td>90</td>\n",
       "    </tr>\n",
       "    <tr>\n",
       "      <th>75</th>\n",
       "      <td>Leon</td>\n",
       "      <td>Bauer</td>\n",
       "      <td>35</td>\n",
       "      <td>Male</td>\n",
       "      <td>Germany</td>\n",
       "      <td>Sognsvann</td>\n",
       "      <td>90</td>\n",
       "      <td>Masters</td>\n",
       "      <td>160</td>\n",
       "      <td>87.0</td>\n",
       "      <td>74</td>\n",
       "    </tr>\n",
       "    <tr>\n",
       "      <th>76</th>\n",
       "      <td>Mohammed</td>\n",
       "      <td>Salim</td>\n",
       "      <td>31</td>\n",
       "      <td>Male</td>\n",
       "      <td>Somali</td>\n",
       "      <td>Sognsvann</td>\n",
       "      <td>35</td>\n",
       "      <td>Masters</td>\n",
       "      <td>144</td>\n",
       "      <td>72.0</td>\n",
       "      <td>90</td>\n",
       "    </tr>\n",
       "  </tbody>\n",
       "</table>\n",
       "<p>75 rows × 11 columns</p>\n",
       "</div>"
      ],
      "text/plain": [
       "        fNAME     lNAME  Age  gender       country     residence  entryEXAM  \\\n",
       "0   Christina    Binger   44  Female        Norway       Private         72   \n",
       "1        Alex  Walekhwa   60    Male         Kenya       Private         79   \n",
       "2      Philip       Leo   25    Male        Uganda     Sognsvann         55   \n",
       "4       Maria  Kedibone   23  Female  South Africa     Sognsvann         65   \n",
       "5      Hannah    Hansen   25  Female         Norge  BI Residence         66   \n",
       "..        ...       ...  ...     ...           ...           ...        ...   \n",
       "72      Clara   Bernard   43  Female        France       Private         80   \n",
       "73     Julian   Nielsen   31    Male       Denmark     Sognsvann         90   \n",
       "74     Sophie     Brown   33  Female            UK     Sognsvann         96   \n",
       "75       Leon     Bauer   35    Male       Germany     Sognsvann         90   \n",
       "76   Mohammed     Salim   31    Male        Somali     Sognsvann         35   \n",
       "\n",
       "   prevEducation  studyHOURS  Python  DB  \n",
       "0        Masters         158    59.0  55  \n",
       "1        Diploma         150    60.0  75  \n",
       "2     HighSchool         130    74.0  50  \n",
       "4    High School         122    91.0  80  \n",
       "5    High School         130    88.0  59  \n",
       "..           ...         ...     ...  ..  \n",
       "72     Bachelors         150    75.0  43  \n",
       "73       Masters         158    84.0  83  \n",
       "74       Masters         158    85.0  90  \n",
       "75       Masters         160    87.0  74  \n",
       "76       Masters         144    72.0  90  \n",
       "\n",
       "[75 rows x 11 columns]"
      ]
     },
     "execution_count": 48,
     "metadata": {},
     "output_type": "execute_result"
    }
   ],
   "source": [
    "df"
   ]
  },
  {
   "cell_type": "code",
   "execution_count": 51,
   "id": "43b5ed3a",
   "metadata": {},
   "outputs": [
    {
     "data": {
      "text/plain": [
       "array(['Christina', 'Alex', 'Philip', 'Maria', 'Hannah', 'Ole', 'Lars',\n",
       "       'Bjørn', 'Sofie', 'Emma', 'Solveig', 'Odd', 'Grethe', 'Marco',\n",
       "       'Ingrid', 'Hanna', 'Jorunn', 'Sebastian', 'Camilla', 'Prof',\n",
       "       'Kristine', 'Carmen', 'Gunnar', 'Gerd', 'Aisha', 'Kato',\n",
       "       'Nansubuga', 'Joakim', 'Don', 'Perry', 'Line', 'Thor', 'Petter',\n",
       "       'Sindre', 'Simen', 'Bjørg', 'Trond', 'Emily', 'Unni', 'Ruth',\n",
       "       'Inger', 'Peninah', 'Berit', 'Jenny', 'Thea', 'Dag', 'Mwanaidi',\n",
       "       'Chinedu', 'Irene', 'Marianne', 'Jens', 'Morten', 'Karoline',\n",
       "       'Ola', 'Tore', 'Caroline', 'Silvia', 'Valentino', 'Peter', 'Anna',\n",
       "       'Lucas', 'Marie', 'Thomas', 'Maximilan', 'Clara', 'Julian',\n",
       "       'Sophie', 'Leon', 'Mohammed'], dtype=object)"
      ]
     },
     "execution_count": 51,
     "metadata": {},
     "output_type": "execute_result"
    }
   ],
   "source": [
    "df['fNAME'].unique()"
   ]
  },
  {
   "cell_type": "code",
   "execution_count": 52,
   "id": "c5f1da0e",
   "metadata": {},
   "outputs": [
    {
     "data": {
      "text/plain": [
       "array(['Binger', 'Walekhwa', 'Leo', 'Kedibone', 'Hansen', 'Johansen',\n",
       "       'Olsen', 'Larsen', 'Jensen', 'de Vries', 'Eliassen', 'Knudsen',\n",
       "       'Myklebust', 'Rossi', 'Eide', 'Andresen', 'Kristiansen',\n",
       "       'Mikkelsen', 'Birkeland', 'Isaksen', 'Berg', 'Rodríguez', 'Ahmed',\n",
       "       'Brekke', 'Bakken', 'Nakaweesi', 'Muwanguzi', 'Nakalema',\n",
       "       'Edvardsen', 'Pettersen', 'Rønning', 'Næss', 'Sandvik',\n",
       "       'Ellingsen', 'Myhre', 'Fredriksen', 'Karlsen', 'Thompson',\n",
       "       'Jacobsen', 'Pedersen', 'Kristoffersen', 'Knutsen', 'Arnesen',\n",
       "       'Ali', 'Morison', 'Strømertan', 'Okafor', 'Ruud', 'Lunde', 'Bakke',\n",
       "       'Abrahamsen', 'Narocho', 'Ojiambo', 'Kubebea', 'Müller', 'Schmidt',\n",
       "       'Dubois', 'García', 'Janssen', 'Martini', 'Bernard', 'Nielsen',\n",
       "       'Brown', 'Bauer', 'Salim'], dtype=object)"
      ]
     },
     "execution_count": 52,
     "metadata": {},
     "output_type": "execute_result"
    }
   ],
   "source": [
    "df['lNAME'].unique()"
   ]
  },
  {
   "cell_type": "code",
   "execution_count": 53,
   "id": "bcb54b3b",
   "metadata": {},
   "outputs": [
    {
     "data": {
      "text/plain": [
       "array([44, 60, 25, 23, 27, 29, 31, 33, 34, 36, 38, 40, 42, 43, 45, 47, 48,\n",
       "       50, 22, 24, 26, 28, 30, 32, 35, 37, 39, 41, 46, 71, 21, 69])"
      ]
     },
     "execution_count": 53,
     "metadata": {},
     "output_type": "execute_result"
    }
   ],
   "source": [
    "df['Age'].unique()"
   ]
  },
  {
   "cell_type": "code",
   "execution_count": 54,
   "id": "9744d2d3",
   "metadata": {},
   "outputs": [
    {
     "data": {
      "text/plain": [
       "array(['Female', 'Male'], dtype=object)"
      ]
     },
     "execution_count": 54,
     "metadata": {},
     "output_type": "execute_result"
    }
   ],
   "source": [
    "df['gender'].unique()"
   ]
  },
  {
   "cell_type": "code",
   "execution_count": 55,
   "id": "d560d0a6",
   "metadata": {},
   "outputs": [
    {
     "data": {
      "text/plain": [
       "array(['Norway', 'Kenya', 'Uganda', 'South Africa', 'Norge', 'norway',\n",
       "       'Denmark', 'Netherlands', 'Italy', 'Spain', 'UK', 'Somali',\n",
       "       'Nigeria', 'Germany', 'France'], dtype=object)"
      ]
     },
     "execution_count": 55,
     "metadata": {},
     "output_type": "execute_result"
    }
   ],
   "source": [
    "df['country'].unique()"
   ]
  },
  {
   "cell_type": "code",
   "execution_count": 56,
   "id": "b8182d91",
   "metadata": {},
   "outputs": [
    {
     "data": {
      "text/plain": [
       "array(['Private', 'Sognsvann', 'BI Residence', 'BI-Residence',\n",
       "       'BIResidence', 'BI_Residence'], dtype=object)"
      ]
     },
     "execution_count": 56,
     "metadata": {},
     "output_type": "execute_result"
    }
   ],
   "source": [
    "df['residence'].unique()"
   ]
  },
  {
   "cell_type": "code",
   "execution_count": 58,
   "id": "23c5d829",
   "metadata": {},
   "outputs": [
    {
     "data": {
      "text/plain": [
       "array([72, 79, 55, 65, 66, 90, 89, 88, 85, 70, 91, 77, 80, 81, 86, 75, 95,\n",
       "       45, 50, 78, 82, 92, 76, 30, 98, 68, 96, 54, 69, 28, 94, 73, 83, 74,\n",
       "       35])"
      ]
     },
     "execution_count": 58,
     "metadata": {},
     "output_type": "execute_result"
    }
   ],
   "source": [
    "df['entryEXAM'].unique()"
   ]
  },
  {
   "cell_type": "code",
   "execution_count": 59,
   "id": "5e94ceba",
   "metadata": {},
   "outputs": [
    {
     "data": {
      "text/plain": [
       "array(['Masters', 'Diploma', 'HighSchool', 'High School', 'Bachelors',\n",
       "       'Barrrchelors', 'diploma', 'DIPLOMA', 'Diplomaaa', 'Doctorate'],\n",
       "      dtype=object)"
      ]
     },
     "execution_count": 59,
     "metadata": {},
     "output_type": "execute_result"
    }
   ],
   "source": [
    "df['prevEducation'].unique()"
   ]
  },
  {
   "cell_type": "code",
   "execution_count": 60,
   "id": "fa152cbf",
   "metadata": {},
   "outputs": [
    {
     "name": "stderr",
     "output_type": "stream",
     "text": [
      "C:\\Users\\DELL\\AppData\\Local\\Temp\\ipykernel_20092\\4147670745.py:1: SettingWithCopyWarning: \n",
      "A value is trying to be set on a copy of a slice from a DataFrame.\n",
      "Try using .loc[row_indexer,col_indexer] = value instead\n",
      "\n",
      "See the caveats in the documentation: https://pandas.pydata.org/pandas-docs/stable/user_guide/indexing.html#returning-a-view-versus-a-copy\n",
      "  df['prevEducation'] = df['prevEducation'].replace(['diploma', 'DIPLOMA','Diplomaaa'], 'Diploma').replace(['High School'], 'HighSchool').replace(['Barrrchelors'], 'Bachelors')\n"
     ]
    }
   ],
   "source": [
    "df['prevEducation'] = df['prevEducation'].replace(['diploma', 'DIPLOMA','Diplomaaa'], 'Diploma').replace(['High School'], 'HighSchool').replace(['Barrrchelors'], 'Bachelors')"
   ]
  },
  {
   "cell_type": "code",
   "execution_count": 61,
   "id": "d505eb04",
   "metadata": {},
   "outputs": [
    {
     "data": {
      "text/plain": [
       "array(['Masters', 'Diploma', 'HighSchool', 'Bachelors', 'Doctorate'],\n",
       "      dtype=object)"
      ]
     },
     "execution_count": 61,
     "metadata": {},
     "output_type": "execute_result"
    }
   ],
   "source": [
    "df['prevEducation'].unique()"
   ]
  },
  {
   "cell_type": "code",
   "execution_count": 62,
   "id": "cdf44b86",
   "metadata": {},
   "outputs": [
    {
     "data": {
      "text/plain": [
       "array([158, 150, 130, 122, 156, 160, 144, 152, 148, 116, 114, 140, 142,\n",
       "       154, 120, 136, 124, 138])"
      ]
     },
     "execution_count": 62,
     "metadata": {},
     "output_type": "execute_result"
    }
   ],
   "source": [
    "df['studyHOURS'].unique()"
   ]
  },
  {
   "cell_type": "code",
   "execution_count": 63,
   "id": "33cdb692",
   "metadata": {},
   "outputs": [
    {
     "data": {
      "text/plain": [
       "array([59., 60., 74., 91., 88., 80., 85., 83., 79., 70., 75., 87., 76.,\n",
       "       84., 33., 30., 61., 82., 66., 81., 31., 90., 69., 57., 86., 78.,\n",
       "       48., 45., 15., 63., 72.])"
      ]
     },
     "execution_count": 63,
     "metadata": {},
     "output_type": "execute_result"
    }
   ],
   "source": [
    "df['Python'].unique()"
   ]
  },
  {
   "cell_type": "code",
   "execution_count": 64,
   "id": "f481c139",
   "metadata": {},
   "outputs": [
    {
     "data": {
      "text/plain": [
       "array([ 55,  75,  50,  80,  59,  91,  60,  89,  90,  58,  99,  76,  77,\n",
       "        82,  78,  73,  30,  56,  65,  83,  88,  69,  79,  45,  42,  74,\n",
       "        33,  92,  86,  62,  70,  47,  67, 100,  61,  46,  68,  71,  43])"
      ]
     },
     "execution_count": 64,
     "metadata": {},
     "output_type": "execute_result"
    }
   ],
   "source": [
    "df['DB'].unique()"
   ]
  }
 ],
 "metadata": {
  "kernelspec": {
   "display_name": "Python 3",
   "language": "python",
   "name": "python3"
  },
  "language_info": {
   "codemirror_mode": {
    "name": "ipython",
    "version": 3
   },
   "file_extension": ".py",
   "mimetype": "text/x-python",
   "name": "python",
   "nbconvert_exporter": "python",
   "pygments_lexer": "ipython3",
   "version": "3.10.11"
  }
 },
 "nbformat": 4,
 "nbformat_minor": 5
}
